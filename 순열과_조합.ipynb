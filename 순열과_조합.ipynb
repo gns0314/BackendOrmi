{
  "nbformat": 4,
  "nbformat_minor": 0,
  "metadata": {
    "colab": {
      "provenance": [],
      "include_colab_link": true
    },
    "kernelspec": {
      "name": "python3",
      "display_name": "Python 3"
    },
    "language_info": {
      "name": "python"
    }
  },
  "cells": [
    {
      "cell_type": "markdown",
      "metadata": {
        "id": "view-in-github",
        "colab_type": "text"
      },
      "source": [
        "<a href=\"https://colab.research.google.com/github/gns0314/BackendOrmi/blob/main/%EC%88%9C%EC%97%B4%EA%B3%BC_%EC%A1%B0%ED%95%A9.ipynb\" target=\"_parent\"><img src=\"https://colab.research.google.com/assets/colab-badge.svg\" alt=\"Open In Colab\"/></a>"
      ]
    },
    {
      "cell_type": "markdown",
      "source": [
        "* 순열과 조합이 쓰이는 문제는 '완전 탐색' 문제에서 주로 사용이 됩니다. 아래와 같은 문제도 '완전 탐색'으로 손쉽게 풀 수 있습니다. 단, 효율이 좋지는 않습니다."
      ],
      "metadata": {
        "id": "_ghp0So7Mjyy"
      }
    },
    {
      "cell_type": "markdown",
      "source": [
        "## 순열\n",
        "\n",
        "* 순서를 정해서 나열한다.(nPr)\n",
        "* 아래와 같은 문제에서 순열로 문제를 풀 수 있습니다.\n",
        "* https://school.programmers.co.kr/learn/courses/30/lessons/120956"
      ],
      "metadata": {
        "id": "4WiZspKJMf0Z"
      }
    },
    {
      "cell_type": "code",
      "execution_count": 1,
      "metadata": {
        "colab": {
          "base_uri": "https://localhost:8080/"
        },
        "id": "Ui-BzvdgMbCM",
        "outputId": "d6d2a0fb-6935-474d-f11c-6d7eecf33312"
      },
      "outputs": [
        {
          "output_type": "execute_result",
          "data": {
            "text/plain": [
              "<itertools.permutations at 0x7f4d7538a2a0>"
            ]
          },
          "metadata": {},
          "execution_count": 1
        }
      ],
      "source": [
        "from itertools import permutations\n",
        "\n",
        "permutations([1, 2, 3, 4], 2) # 순회 가능한 객체만 생성"
      ]
    },
    {
      "cell_type": "code",
      "source": [
        "from itertools import permutations\n",
        "\n",
        "list(permutations([1, 2, 3, 4], 2)) +\\\n",
        "list(permutations([1, 2, 3, 4], 3)) +\\\n",
        "list(permutations([1, 2, 3, 4], 4))\n",
        "\n",
        "list(permutations(range(1, 5), 2))\n",
        "list(permutations('hello', 2))"
      ],
      "metadata": {
        "id": "Z9VoBFIjM8mY",
        "outputId": "f753d069-818d-4315-e7bb-272403a340d7",
        "colab": {
          "base_uri": "https://localhost:8080/"
        }
      },
      "execution_count": 2,
      "outputs": [
        {
          "output_type": "execute_result",
          "data": {
            "text/plain": [
              "[('h', 'e'),\n",
              " ('h', 'l'),\n",
              " ('h', 'l'),\n",
              " ('h', 'o'),\n",
              " ('e', 'h'),\n",
              " ('e', 'l'),\n",
              " ('e', 'l'),\n",
              " ('e', 'o'),\n",
              " ('l', 'h'),\n",
              " ('l', 'e'),\n",
              " ('l', 'l'),\n",
              " ('l', 'o'),\n",
              " ('l', 'h'),\n",
              " ('l', 'e'),\n",
              " ('l', 'l'),\n",
              " ('l', 'o'),\n",
              " ('o', 'h'),\n",
              " ('o', 'e'),\n",
              " ('o', 'l'),\n",
              " ('o', 'l')]"
            ]
          },
          "metadata": {},
          "execution_count": 2
        }
      ]
    },
    {
      "cell_type": "code",
      "source": [
        "list(permutations([\"aya\", \"ye\", \"woo\", \"ma\"], 1)) +\\\n",
        "list(permutations([\"aya\", \"ye\", \"woo\", \"ma\"], 2)) +\\\n",
        "list(permutations([\"aya\", \"ye\", \"woo\", \"ma\"], 3)) +\\\n",
        "list(permutations([\"aya\", \"ye\", \"woo\", \"ma\"], 4))"
      ],
      "metadata": {
        "id": "iIG9Q1WkNuo9",
        "outputId": "a4906eff-54a4-42d1-f691-d564868b1f65",
        "colab": {
          "base_uri": "https://localhost:8080/"
        }
      },
      "execution_count": 3,
      "outputs": [
        {
          "output_type": "execute_result",
          "data": {
            "text/plain": [
              "[('aya',),\n",
              " ('ye',),\n",
              " ('woo',),\n",
              " ('ma',),\n",
              " ('aya', 'ye'),\n",
              " ('aya', 'woo'),\n",
              " ('aya', 'ma'),\n",
              " ('ye', 'aya'),\n",
              " ('ye', 'woo'),\n",
              " ('ye', 'ma'),\n",
              " ('woo', 'aya'),\n",
              " ('woo', 'ye'),\n",
              " ('woo', 'ma'),\n",
              " ('ma', 'aya'),\n",
              " ('ma', 'ye'),\n",
              " ('ma', 'woo'),\n",
              " ('aya', 'ye', 'woo'),\n",
              " ('aya', 'ye', 'ma'),\n",
              " ('aya', 'woo', 'ye'),\n",
              " ('aya', 'woo', 'ma'),\n",
              " ('aya', 'ma', 'ye'),\n",
              " ('aya', 'ma', 'woo'),\n",
              " ('ye', 'aya', 'woo'),\n",
              " ('ye', 'aya', 'ma'),\n",
              " ('ye', 'woo', 'aya'),\n",
              " ('ye', 'woo', 'ma'),\n",
              " ('ye', 'ma', 'aya'),\n",
              " ('ye', 'ma', 'woo'),\n",
              " ('woo', 'aya', 'ye'),\n",
              " ('woo', 'aya', 'ma'),\n",
              " ('woo', 'ye', 'aya'),\n",
              " ('woo', 'ye', 'ma'),\n",
              " ('woo', 'ma', 'aya'),\n",
              " ('woo', 'ma', 'ye'),\n",
              " ('ma', 'aya', 'ye'),\n",
              " ('ma', 'aya', 'woo'),\n",
              " ('ma', 'ye', 'aya'),\n",
              " ('ma', 'ye', 'woo'),\n",
              " ('ma', 'woo', 'aya'),\n",
              " ('ma', 'woo', 'ye'),\n",
              " ('aya', 'ye', 'woo', 'ma'),\n",
              " ('aya', 'ye', 'ma', 'woo'),\n",
              " ('aya', 'woo', 'ye', 'ma'),\n",
              " ('aya', 'woo', 'ma', 'ye'),\n",
              " ('aya', 'ma', 'ye', 'woo'),\n",
              " ('aya', 'ma', 'woo', 'ye'),\n",
              " ('ye', 'aya', 'woo', 'ma'),\n",
              " ('ye', 'aya', 'ma', 'woo'),\n",
              " ('ye', 'woo', 'aya', 'ma'),\n",
              " ('ye', 'woo', 'ma', 'aya'),\n",
              " ('ye', 'ma', 'aya', 'woo'),\n",
              " ('ye', 'ma', 'woo', 'aya'),\n",
              " ('woo', 'aya', 'ye', 'ma'),\n",
              " ('woo', 'aya', 'ma', 'ye'),\n",
              " ('woo', 'ye', 'aya', 'ma'),\n",
              " ('woo', 'ye', 'ma', 'aya'),\n",
              " ('woo', 'ma', 'aya', 'ye'),\n",
              " ('woo', 'ma', 'ye', 'aya'),\n",
              " ('ma', 'aya', 'ye', 'woo'),\n",
              " ('ma', 'aya', 'woo', 'ye'),\n",
              " ('ma', 'ye', 'aya', 'woo'),\n",
              " ('ma', 'ye', 'woo', 'aya'),\n",
              " ('ma', 'woo', 'aya', 'ye'),\n",
              " ('ma', 'woo', 'ye', 'aya')]"
            ]
          },
          "metadata": {},
          "execution_count": 3
        }
      ]
    },
    {
      "cell_type": "code",
      "source": [
        "순열 = list(permutations([\"aya\", \"ye\", \"woo\", \"ma\"], 1)) +\\\n",
        "list(permutations([\"aya\", \"ye\", \"woo\", \"ma\"], 2)) +\\\n",
        "list(permutations([\"aya\", \"ye\", \"woo\", \"ma\"], 3)) +\\\n",
        "list(permutations([\"aya\", \"ye\", \"woo\", \"ma\"], 4))\n",
        "\n",
        "순열집합 = []\n",
        "\n",
        "for i in 순열:\n",
        "    순열집합.append(''.join(i))\n",
        "\n",
        "순열집합"
      ],
      "metadata": {
        "id": "BCX5IzCyOK4Y",
        "outputId": "95c00857-8100-4931-bdc1-cb5cd9aa5fac",
        "colab": {
          "base_uri": "https://localhost:8080/"
        }
      },
      "execution_count": 4,
      "outputs": [
        {
          "output_type": "execute_result",
          "data": {
            "text/plain": [
              "['aya',\n",
              " 'ye',\n",
              " 'woo',\n",
              " 'ma',\n",
              " 'ayaye',\n",
              " 'ayawoo',\n",
              " 'ayama',\n",
              " 'yeaya',\n",
              " 'yewoo',\n",
              " 'yema',\n",
              " 'wooaya',\n",
              " 'wooye',\n",
              " 'wooma',\n",
              " 'maaya',\n",
              " 'maye',\n",
              " 'mawoo',\n",
              " 'ayayewoo',\n",
              " 'ayayema',\n",
              " 'ayawooye',\n",
              " 'ayawooma',\n",
              " 'ayamaye',\n",
              " 'ayamawoo',\n",
              " 'yeayawoo',\n",
              " 'yeayama',\n",
              " 'yewooaya',\n",
              " 'yewooma',\n",
              " 'yemaaya',\n",
              " 'yemawoo',\n",
              " 'wooayaye',\n",
              " 'wooayama',\n",
              " 'wooyeaya',\n",
              " 'wooyema',\n",
              " 'woomaaya',\n",
              " 'woomaye',\n",
              " 'maayaye',\n",
              " 'maayawoo',\n",
              " 'mayeaya',\n",
              " 'mayewoo',\n",
              " 'mawooaya',\n",
              " 'mawooye',\n",
              " 'ayayewooma',\n",
              " 'ayayemawoo',\n",
              " 'ayawooyema',\n",
              " 'ayawoomaye',\n",
              " 'ayamayewoo',\n",
              " 'ayamawooye',\n",
              " 'yeayawooma',\n",
              " 'yeayamawoo',\n",
              " 'yewooayama',\n",
              " 'yewoomaaya',\n",
              " 'yemaayawoo',\n",
              " 'yemawooaya',\n",
              " 'wooayayema',\n",
              " 'wooayamaye',\n",
              " 'wooyeayama',\n",
              " 'wooyemaaya',\n",
              " 'woomaayaye',\n",
              " 'woomayeaya',\n",
              " 'maayayewoo',\n",
              " 'maayawooye',\n",
              " 'mayeayawoo',\n",
              " 'mayewooaya',\n",
              " 'mawooayaye',\n",
              " 'mawooyeaya']"
            ]
          },
          "metadata": {},
          "execution_count": 4
        }
      ]
    },
    {
      "cell_type": "code",
      "source": [
        "count = 0\n",
        "for i in [\"ayaye\", \"uuuma\", \"ye\", \"yemawoo\", \"ayaa\"]:\n",
        "    if i in 순열집합:\n",
        "        count += 1\n",
        "\n",
        "count"
      ],
      "metadata": {
        "colab": {
          "base_uri": "https://localhost:8080/"
        },
        "id": "ee4-4GXcOrQ1",
        "outputId": "962f06ba-fdd4-4459-cf2c-bcdea14210a3"
      },
      "execution_count": 5,
      "outputs": [
        {
          "output_type": "execute_result",
          "data": {
            "text/plain": [
              "3"
            ]
          },
          "metadata": {},
          "execution_count": 5
        }
      ]
    },
    {
      "cell_type": "markdown",
      "source": [
        "## 조합\n",
        "\n",
        "* 순서를 정하지 않고 나열한다.(nCr)\n",
        "* 아래와 같은 문제에서 조합을 활용할 수 있습니다.\n",
        "* 링크 : https://pyalgo.co.kr/?page=12#"
      ],
      "metadata": {
        "id": "SSrEhPMqMhdF"
      }
    },
    {
      "cell_type": "code",
      "source": [
        "from itertools import combinations\n",
        "\n",
        "combinations([1, 2, 3, 4], 2)"
      ],
      "metadata": {
        "colab": {
          "base_uri": "https://localhost:8080/"
        },
        "id": "gDaom3mHPo-s",
        "outputId": "50ad6e82-9064-41f8-ff1a-6a04e1dd7864"
      },
      "execution_count": 6,
      "outputs": [
        {
          "output_type": "execute_result",
          "data": {
            "text/plain": [
              "<itertools.combinations at 0x7f4d5a46ab10>"
            ]
          },
          "metadata": {},
          "execution_count": 6
        }
      ]
    },
    {
      "cell_type": "code",
      "source": [
        "from itertools import combinations\n",
        "\n",
        "list(combinations([1, 2, 3, 4], 2))"
      ],
      "metadata": {
        "colab": {
          "base_uri": "https://localhost:8080/"
        },
        "id": "DiaDs_TyPvhp",
        "outputId": "32be0942-195d-4829-8286-4905661a6da9"
      },
      "execution_count": 7,
      "outputs": [
        {
          "output_type": "execute_result",
          "data": {
            "text/plain": [
              "[(1, 2), (1, 3), (1, 4), (2, 3), (2, 4), (3, 4)]"
            ]
          },
          "metadata": {},
          "execution_count": 7
        }
      ]
    },
    {
      "cell_type": "code",
      "source": [
        "from itertools import combinations\n",
        "\n",
        "list(combinations('abcd', 2))"
      ],
      "metadata": {
        "colab": {
          "base_uri": "https://localhost:8080/"
        },
        "id": "Enjp7uqaP1rm",
        "outputId": "bc4ecba9-e805-4f0f-8da2-201b5d801fbd"
      },
      "execution_count": 8,
      "outputs": [
        {
          "output_type": "execute_result",
          "data": {
            "text/plain": [
              "[('a', 'b'), ('a', 'c'), ('a', 'd'), ('b', 'c'), ('b', 'd'), ('c', 'd')]"
            ]
          },
          "metadata": {},
          "execution_count": 8
        }
      ]
    }
  ]
}