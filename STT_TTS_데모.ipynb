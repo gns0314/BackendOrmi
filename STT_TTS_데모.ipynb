{
  "cells": [
    {
      "cell_type": "markdown",
      "metadata": {
        "id": "view-in-github",
        "colab_type": "text"
      },
      "source": [
        "<a href=\"https://colab.research.google.com/github/gns0314/BackendOrmi/blob/main/STT_TTS_%EB%8D%B0%EB%AA%A8.ipynb\" target=\"_parent\"><img src=\"https://colab.research.google.com/assets/colab-badge.svg\" alt=\"Open In Colab\"/></a>"
      ]
    },
    {
      "cell_type": "markdown",
      "source": [
        "## ffmepg 패키지 설치"
      ],
      "metadata": {
        "id": "LfxjCTJC_kTs"
      }
    },
    {
      "cell_type": "code",
      "source": [
        "!pip install ffmpeg-python"
      ],
      "metadata": {
        "id": "f5o_jLhW2ETA",
        "outputId": "50cb4555-bfcd-47b8-87f7-34434c7e296c",
        "colab": {
          "base_uri": "https://localhost:8080/"
        }
      },
      "execution_count": null,
      "outputs": [
        {
          "output_type": "stream",
          "name": "stdout",
          "text": [
            "Requirement already satisfied: ffmpeg-python in /usr/local/lib/python3.10/dist-packages (0.2.0)\n",
            "Requirement already satisfied: future in /usr/local/lib/python3.10/dist-packages (from ffmpeg-python) (0.18.3)\n"
          ]
        }
      ]
    },
    {
      "cell_type": "markdown",
      "source": [
        "## 마이크 녹음"
      ],
      "metadata": {
        "id": "RYNeA4Bh_vEz"
      }
    },
    {
      "cell_type": "code",
      "source": [
        "\"\"\"\n",
        "To write this piece of code I took inspiration/code from a lot of places.\n",
        "It was late night, so I'm not sure how much I created or just copied o.O\n",
        "Here are some of the possible references:\n",
        "https://blog.addpipe.com/recording-audio-in-the-browser-using-pure-html5-and-minimal-javascript/\n",
        "https://stackoverflow.com/a/18650249\n",
        "https://hacks.mozilla.org/2014/06/easy-audio-capture-with-the-mediarecorder-api/\n",
        "https://air.ghost.io/recording-to-an-audio-file-using-html5-and-js/\n",
        "https://stackoverflow.com/a/49019356\n",
        "\"\"\"\n",
        "from IPython.display import HTML, Audio\n",
        "from google.colab.output import eval_js\n",
        "from base64 import b64decode\n",
        "import numpy as np\n",
        "from scipy.io.wavfile import read as wav_read\n",
        "import io\n",
        "import ffmpeg\n",
        "\n",
        "AUDIO_HTML = \"\"\"\n",
        "<script>\n",
        "var my_div = document.createElement(\"DIV\");\n",
        "var my_p = document.createElement(\"P\");\n",
        "var my_btn = document.createElement(\"BUTTON\");\n",
        "var t = document.createTextNode(\"Press to start recording\");\n",
        "\n",
        "my_btn.appendChild(t);\n",
        "//my_p.appendChild(my_btn);\n",
        "my_div.appendChild(my_btn);\n",
        "document.body.appendChild(my_div);\n",
        "\n",
        "var base64data = 0;\n",
        "var reader;\n",
        "var recorder, gumStream;\n",
        "var recordButton = my_btn;\n",
        "\n",
        "var handleSuccess = function(stream) {\n",
        "  gumStream = stream;\n",
        "  var options = {\n",
        "    //bitsPerSecond: 8000, //chrome seems to ignore, always 48k\n",
        "    mimeType : 'audio/webm;codecs=opus'\n",
        "    //mimeType : 'audio/webm;codecs=pcm'\n",
        "  };\n",
        "  //recorder = new MediaRecorder(stream, options);\n",
        "  recorder = new MediaRecorder(stream);\n",
        "  recorder.ondataavailable = function(e) {\n",
        "    var url = URL.createObjectURL(e.data);\n",
        "    var preview = document.createElement('audio');\n",
        "    preview.controls = true;\n",
        "    preview.src = url;\n",
        "    document.body.appendChild(preview);\n",
        "\n",
        "    reader = new FileReader();\n",
        "    reader.readAsDataURL(e.data);\n",
        "    reader.onloadend = function() {\n",
        "      base64data = reader.result;\n",
        "      //console.log(\"Inside FileReader:\" + base64data);\n",
        "    }\n",
        "  };\n",
        "  recorder.start();\n",
        "  };\n",
        "\n",
        "recordButton.innerText = \"Recording... press to stop\";\n",
        "\n",
        "navigator.mediaDevices.getUserMedia({audio: true}).then(handleSuccess);\n",
        "\n",
        "\n",
        "function toggleRecording() {\n",
        "  if (recorder && recorder.state == \"recording\") {\n",
        "      recorder.stop();\n",
        "      gumStream.getAudioTracks()[0].stop();\n",
        "      recordButton.innerText = \"Saving the recording... pls wait!\"\n",
        "  }\n",
        "}\n",
        "\n",
        "// https://stackoverflow.com/a/951057\n",
        "function sleep(ms) {\n",
        "  return new Promise(resolve => setTimeout(resolve, ms));\n",
        "}\n",
        "\n",
        "var data = new Promise(resolve=>{\n",
        "//recordButton.addEventListener(\"click\", toggleRecording);\n",
        "recordButton.onclick = ()=>{\n",
        "toggleRecording()\n",
        "\n",
        "sleep(2000).then(() => {\n",
        "  // wait 2000ms for the data to be available...\n",
        "  // ideally this should use something like await...\n",
        "  //console.log(\"Inside data:\" + base64data)\n",
        "  resolve(base64data.toString())\n",
        "\n",
        "});\n",
        "\n",
        "}\n",
        "});\n",
        "\n",
        "</script>\n",
        "\"\"\"\n",
        "\n",
        "def get_audio():\n",
        "  display(HTML(AUDIO_HTML))\n",
        "  data = eval_js(\"data\")\n",
        "  binary = b64decode(data.split(',')[1])\n",
        "\n",
        "  process = (ffmpeg\n",
        "    .input('pipe:0')\n",
        "    .output('pipe:1', format='wav')\n",
        "    .run_async(pipe_stdin=True, pipe_stdout=True, pipe_stderr=True, quiet=True, overwrite_output=True)\n",
        "  )\n",
        "  output, err = process.communicate(input=binary)\n",
        "\n",
        "  riff_chunk_size = len(output) - 8\n",
        "  # Break up the chunk size into four bytes, held in b.\n",
        "  q = riff_chunk_size\n",
        "  b = []\n",
        "  for i in range(4):\n",
        "      q, r = divmod(q, 256)\n",
        "      b.append(r)\n",
        "\n",
        "  # Replace bytes 4:8 in proc.stdout with the actual size of the RIFF chunk.\n",
        "  riff = output[:4] + bytes(b) + output[8:]\n",
        "\n",
        "  sr, audio = wav_read(io.BytesIO(riff))\n",
        "\n",
        "  return audio, sr"
      ],
      "metadata": {
        "id": "BQkwFxrQ2Hax"
      },
      "execution_count": null,
      "outputs": []
    },
    {
      "cell_type": "markdown",
      "source": [
        "## 녹음하기\n",
        "녹음된 음성은 /content/recording.wav 경로에 저장됨"
      ],
      "metadata": {
        "id": "cIQ0g5PL_0qW"
      }
    },
    {
      "cell_type": "code",
      "source": [
        "audio, sr = get_audio()\n",
        "import scipy\n",
        "scipy.io.wavfile.write('/content/recording.wav', sr, audio)"
      ],
      "metadata": {
        "id": "QbPei-Ot2K-z",
        "outputId": "d51b8dc6-0c77-4bde-b2c0-85e0005c534c",
        "colab": {
          "base_uri": "https://localhost:8080/",
          "height": 95
        }
      },
      "execution_count": null,
      "outputs": [
        {
          "output_type": "display_data",
          "data": {
            "text/plain": [
              "<IPython.core.display.HTML object>"
            ],
            "text/html": [
              "\n",
              "<script>\n",
              "var my_div = document.createElement(\"DIV\");\n",
              "var my_p = document.createElement(\"P\");\n",
              "var my_btn = document.createElement(\"BUTTON\");\n",
              "var t = document.createTextNode(\"Press to start recording\");\n",
              "\n",
              "my_btn.appendChild(t);\n",
              "//my_p.appendChild(my_btn);\n",
              "my_div.appendChild(my_btn);\n",
              "document.body.appendChild(my_div);\n",
              "\n",
              "var base64data = 0;\n",
              "var reader;\n",
              "var recorder, gumStream;\n",
              "var recordButton = my_btn;\n",
              "\n",
              "var handleSuccess = function(stream) {\n",
              "  gumStream = stream;\n",
              "  var options = {\n",
              "    //bitsPerSecond: 8000, //chrome seems to ignore, always 48k\n",
              "    mimeType : 'audio/webm;codecs=opus'\n",
              "    //mimeType : 'audio/webm;codecs=pcm'\n",
              "  };\n",
              "  //recorder = new MediaRecorder(stream, options);\n",
              "  recorder = new MediaRecorder(stream);\n",
              "  recorder.ondataavailable = function(e) {\n",
              "    var url = URL.createObjectURL(e.data);\n",
              "    var preview = document.createElement('audio');\n",
              "    preview.controls = true;\n",
              "    preview.src = url;\n",
              "    document.body.appendChild(preview);\n",
              "\n",
              "    reader = new FileReader();\n",
              "    reader.readAsDataURL(e.data);\n",
              "    reader.onloadend = function() {\n",
              "      base64data = reader.result;\n",
              "      //console.log(\"Inside FileReader:\" + base64data);\n",
              "    }\n",
              "  };\n",
              "  recorder.start();\n",
              "  };\n",
              "\n",
              "recordButton.innerText = \"Recording... press to stop\";\n",
              "\n",
              "navigator.mediaDevices.getUserMedia({audio: true}).then(handleSuccess);\n",
              "\n",
              "\n",
              "function toggleRecording() {\n",
              "  if (recorder && recorder.state == \"recording\") {\n",
              "      recorder.stop();\n",
              "      gumStream.getAudioTracks()[0].stop();\n",
              "      recordButton.innerText = \"Saving the recording... pls wait!\"\n",
              "  }\n",
              "}\n",
              "\n",
              "// https://stackoverflow.com/a/951057\n",
              "function sleep(ms) {\n",
              "  return new Promise(resolve => setTimeout(resolve, ms));\n",
              "}\n",
              "\n",
              "var data = new Promise(resolve=>{\n",
              "//recordButton.addEventListener(\"click\", toggleRecording);\n",
              "recordButton.onclick = ()=>{\n",
              "toggleRecording()\n",
              "\n",
              "sleep(2000).then(() => {\n",
              "  // wait 2000ms for the data to be available...\n",
              "  // ideally this should use something like await...\n",
              "  //console.log(\"Inside data:\" + base64data)\n",
              "  resolve(base64data.toString())\n",
              "\n",
              "});\n",
              "\n",
              "}\n",
              "});\n",
              "\n",
              "</script>\n"
            ]
          },
          "metadata": {}
        }
      ]
    },
    {
      "cell_type": "markdown",
      "source": [
        "## OpenAI의 Whisper 설치"
      ],
      "metadata": {
        "id": "kosakhNmxb7A"
      }
    },
    {
      "cell_type": "code",
      "execution_count": null,
      "metadata": {
        "id": "ZsJUxc0aRsAf",
        "outputId": "a5638bf0-6ffa-4853-f72f-0d36fffd7cb2",
        "colab": {
          "base_uri": "https://localhost:8080/"
        }
      },
      "outputs": [
        {
          "output_type": "stream",
          "name": "stdout",
          "text": [
            "  Installing build dependencies ... \u001b[?25l\u001b[?25hdone\n",
            "  Getting requirements to build wheel ... \u001b[?25l\u001b[?25hdone\n",
            "  Preparing metadata (pyproject.toml) ... \u001b[?25l\u001b[?25hdone\n"
          ]
        }
      ],
      "source": [
        "! pip install git+https://github.com/openai/whisper.git -q"
      ]
    },
    {
      "cell_type": "markdown",
      "source": [
        "## Model 로드"
      ],
      "metadata": {
        "id": "AtAvuKSJxhNw"
      }
    },
    {
      "cell_type": "code",
      "source": [
        "import whisper\n",
        "\n",
        "model = whisper.load_model(\"base\")\n"
      ],
      "metadata": {
        "id": "Kr5faKybKi4p"
      },
      "execution_count": null,
      "outputs": []
    },
    {
      "cell_type": "markdown",
      "source": [
        "## GPU가 있는지 확인\n",
        "\n",
        "아래에 `device(type='cuda', index=0)` 출력이 표시되어야 합니다.  \n",
        "그렇지 않다면 CPU 전용 Colab 인스턴스를 사용 중일 수 있으며 느리게 실행됩니다.  \n",
        "런타임->런타임 유형 변경`으로 이 문제를 해결하세요."
      ],
      "metadata": {
        "id": "e200RNNlxn5j"
      }
    },
    {
      "cell_type": "code",
      "source": [
        "model.device"
      ],
      "metadata": {
        "colab": {
          "base_uri": "https://localhost:8080/"
        },
        "id": "u_6_s2iHboR4",
        "outputId": "e7e2c548-1125-4b1f-a69e-7d5f3875f513"
      },
      "execution_count": null,
      "outputs": [
        {
          "output_type": "execute_result",
          "data": {
            "text/plain": [
              "device(type='cuda', index=0)"
            ]
          },
          "metadata": {},
          "execution_count": 11
        }
      ]
    },
    {
      "cell_type": "markdown",
      "source": [
        "## STT 수행\n",
        "see  https://github.com/openai/whisper"
      ],
      "metadata": {
        "id": "s-P7A0So965E"
      }
    },
    {
      "cell_type": "code",
      "source": [
        "result = model.transcribe(\"/content/recording.wav\")\n",
        "print(result[\"text\"])"
      ],
      "metadata": {
        "colab": {
          "base_uri": "https://localhost:8080/",
          "height": 977
        },
        "id": "U_qTn3Wh9m1Z",
        "outputId": "25a3736d-2a24-49e4-933f-5394dd5a5171"
      },
      "execution_count": null,
      "outputs": [
        {
          "output_type": "error",
          "ename": "RuntimeError",
          "evalue": "ignored",
          "traceback": [
            "\u001b[0;31m---------------------------------------------------------------------------\u001b[0m",
            "\u001b[0;31mCalledProcessError\u001b[0m                        Traceback (most recent call last)",
            "\u001b[0;32m/usr/local/lib/python3.10/dist-packages/whisper/audio.py\u001b[0m in \u001b[0;36mload_audio\u001b[0;34m(file, sr)\u001b[0m\n\u001b[1;32m     58\u001b[0m     \u001b[0;32mtry\u001b[0m\u001b[0;34m:\u001b[0m\u001b[0;34m\u001b[0m\u001b[0;34m\u001b[0m\u001b[0m\n\u001b[0;32m---> 59\u001b[0;31m         \u001b[0mout\u001b[0m \u001b[0;34m=\u001b[0m \u001b[0mrun\u001b[0m\u001b[0;34m(\u001b[0m\u001b[0mcmd\u001b[0m\u001b[0;34m,\u001b[0m \u001b[0mcapture_output\u001b[0m\u001b[0;34m=\u001b[0m\u001b[0;32mTrue\u001b[0m\u001b[0;34m,\u001b[0m \u001b[0mcheck\u001b[0m\u001b[0;34m=\u001b[0m\u001b[0;32mTrue\u001b[0m\u001b[0;34m)\u001b[0m\u001b[0;34m.\u001b[0m\u001b[0mstdout\u001b[0m\u001b[0;34m\u001b[0m\u001b[0;34m\u001b[0m\u001b[0m\n\u001b[0m\u001b[1;32m     60\u001b[0m     \u001b[0;32mexcept\u001b[0m \u001b[0mCalledProcessError\u001b[0m \u001b[0;32mas\u001b[0m \u001b[0me\u001b[0m\u001b[0;34m:\u001b[0m\u001b[0;34m\u001b[0m\u001b[0;34m\u001b[0m\u001b[0m\n",
            "\u001b[0;32m/usr/lib/python3.10/subprocess.py\u001b[0m in \u001b[0;36mrun\u001b[0;34m(input, capture_output, timeout, check, *popenargs, **kwargs)\u001b[0m\n\u001b[1;32m    525\u001b[0m         \u001b[0;32mif\u001b[0m \u001b[0mcheck\u001b[0m \u001b[0;32mand\u001b[0m \u001b[0mretcode\u001b[0m\u001b[0;34m:\u001b[0m\u001b[0;34m\u001b[0m\u001b[0;34m\u001b[0m\u001b[0m\n\u001b[0;32m--> 526\u001b[0;31m             raise CalledProcessError(retcode, process.args,\n\u001b[0m\u001b[1;32m    527\u001b[0m                                      output=stdout, stderr=stderr)\n",
            "\u001b[0;31mCalledProcessError\u001b[0m: Command '['ffmpeg', '-nostdin', '-threads', '0', '-i', '/content/recording.wav', '-f', 's16le', '-ac', '1', '-acodec', 'pcm_s16le', '-ar', '16000', '-']' returned non-zero exit status 1.",
            "\nThe above exception was the direct cause of the following exception:\n",
            "\u001b[0;31mRuntimeError\u001b[0m                              Traceback (most recent call last)",
            "\u001b[0;32m<ipython-input-12-4b2231398602>\u001b[0m in \u001b[0;36m<cell line: 1>\u001b[0;34m()\u001b[0m\n\u001b[0;32m----> 1\u001b[0;31m \u001b[0mresult\u001b[0m \u001b[0;34m=\u001b[0m \u001b[0mmodel\u001b[0m\u001b[0;34m.\u001b[0m\u001b[0mtranscribe\u001b[0m\u001b[0;34m(\u001b[0m\u001b[0;34m\"/content/recording.wav\"\u001b[0m\u001b[0;34m)\u001b[0m\u001b[0;34m\u001b[0m\u001b[0;34m\u001b[0m\u001b[0m\n\u001b[0m\u001b[1;32m      2\u001b[0m \u001b[0mprint\u001b[0m\u001b[0;34m(\u001b[0m\u001b[0mresult\u001b[0m\u001b[0;34m[\u001b[0m\u001b[0;34m\"text\"\u001b[0m\u001b[0;34m]\u001b[0m\u001b[0;34m)\u001b[0m\u001b[0;34m\u001b[0m\u001b[0;34m\u001b[0m\u001b[0m\n",
            "\u001b[0;32m/usr/local/lib/python3.10/dist-packages/whisper/transcribe.py\u001b[0m in \u001b[0;36mtranscribe\u001b[0;34m(model, audio, verbose, temperature, compression_ratio_threshold, logprob_threshold, no_speech_threshold, condition_on_previous_text, initial_prompt, word_timestamps, prepend_punctuations, append_punctuations, **decode_options)\u001b[0m\n\u001b[1;32m    119\u001b[0m \u001b[0;34m\u001b[0m\u001b[0m\n\u001b[1;32m    120\u001b[0m     \u001b[0;31m# Pad 30-seconds of silence to the input audio, for slicing\u001b[0m\u001b[0;34m\u001b[0m\u001b[0;34m\u001b[0m\u001b[0m\n\u001b[0;32m--> 121\u001b[0;31m     \u001b[0mmel\u001b[0m \u001b[0;34m=\u001b[0m \u001b[0mlog_mel_spectrogram\u001b[0m\u001b[0;34m(\u001b[0m\u001b[0maudio\u001b[0m\u001b[0;34m,\u001b[0m \u001b[0mpadding\u001b[0m\u001b[0;34m=\u001b[0m\u001b[0mN_SAMPLES\u001b[0m\u001b[0;34m)\u001b[0m\u001b[0;34m\u001b[0m\u001b[0;34m\u001b[0m\u001b[0m\n\u001b[0m\u001b[1;32m    122\u001b[0m     \u001b[0mcontent_frames\u001b[0m \u001b[0;34m=\u001b[0m \u001b[0mmel\u001b[0m\u001b[0;34m.\u001b[0m\u001b[0mshape\u001b[0m\u001b[0;34m[\u001b[0m\u001b[0;34m-\u001b[0m\u001b[0;36m1\u001b[0m\u001b[0;34m]\u001b[0m \u001b[0;34m-\u001b[0m \u001b[0mN_FRAMES\u001b[0m\u001b[0;34m\u001b[0m\u001b[0;34m\u001b[0m\u001b[0m\n\u001b[1;32m    123\u001b[0m \u001b[0;34m\u001b[0m\u001b[0m\n",
            "\u001b[0;32m/usr/local/lib/python3.10/dist-packages/whisper/audio.py\u001b[0m in \u001b[0;36mlog_mel_spectrogram\u001b[0;34m(audio, n_mels, padding, device)\u001b[0m\n\u001b[1;32m    138\u001b[0m     \u001b[0;32mif\u001b[0m \u001b[0;32mnot\u001b[0m \u001b[0mtorch\u001b[0m\u001b[0;34m.\u001b[0m\u001b[0mis_tensor\u001b[0m\u001b[0;34m(\u001b[0m\u001b[0maudio\u001b[0m\u001b[0;34m)\u001b[0m\u001b[0;34m:\u001b[0m\u001b[0;34m\u001b[0m\u001b[0;34m\u001b[0m\u001b[0m\n\u001b[1;32m    139\u001b[0m         \u001b[0;32mif\u001b[0m \u001b[0misinstance\u001b[0m\u001b[0;34m(\u001b[0m\u001b[0maudio\u001b[0m\u001b[0;34m,\u001b[0m \u001b[0mstr\u001b[0m\u001b[0;34m)\u001b[0m\u001b[0;34m:\u001b[0m\u001b[0;34m\u001b[0m\u001b[0;34m\u001b[0m\u001b[0m\n\u001b[0;32m--> 140\u001b[0;31m             \u001b[0maudio\u001b[0m \u001b[0;34m=\u001b[0m \u001b[0mload_audio\u001b[0m\u001b[0;34m(\u001b[0m\u001b[0maudio\u001b[0m\u001b[0;34m)\u001b[0m\u001b[0;34m\u001b[0m\u001b[0;34m\u001b[0m\u001b[0m\n\u001b[0m\u001b[1;32m    141\u001b[0m         \u001b[0maudio\u001b[0m \u001b[0;34m=\u001b[0m \u001b[0mtorch\u001b[0m\u001b[0;34m.\u001b[0m\u001b[0mfrom_numpy\u001b[0m\u001b[0;34m(\u001b[0m\u001b[0maudio\u001b[0m\u001b[0;34m)\u001b[0m\u001b[0;34m\u001b[0m\u001b[0;34m\u001b[0m\u001b[0m\n\u001b[1;32m    142\u001b[0m \u001b[0;34m\u001b[0m\u001b[0m\n",
            "\u001b[0;32m/usr/local/lib/python3.10/dist-packages/whisper/audio.py\u001b[0m in \u001b[0;36mload_audio\u001b[0;34m(file, sr)\u001b[0m\n\u001b[1;32m     59\u001b[0m         \u001b[0mout\u001b[0m \u001b[0;34m=\u001b[0m \u001b[0mrun\u001b[0m\u001b[0;34m(\u001b[0m\u001b[0mcmd\u001b[0m\u001b[0;34m,\u001b[0m \u001b[0mcapture_output\u001b[0m\u001b[0;34m=\u001b[0m\u001b[0;32mTrue\u001b[0m\u001b[0;34m,\u001b[0m \u001b[0mcheck\u001b[0m\u001b[0;34m=\u001b[0m\u001b[0;32mTrue\u001b[0m\u001b[0;34m)\u001b[0m\u001b[0;34m.\u001b[0m\u001b[0mstdout\u001b[0m\u001b[0;34m\u001b[0m\u001b[0;34m\u001b[0m\u001b[0m\n\u001b[1;32m     60\u001b[0m     \u001b[0;32mexcept\u001b[0m \u001b[0mCalledProcessError\u001b[0m \u001b[0;32mas\u001b[0m \u001b[0me\u001b[0m\u001b[0;34m:\u001b[0m\u001b[0;34m\u001b[0m\u001b[0;34m\u001b[0m\u001b[0m\n\u001b[0;32m---> 61\u001b[0;31m         \u001b[0;32mraise\u001b[0m \u001b[0mRuntimeError\u001b[0m\u001b[0;34m(\u001b[0m\u001b[0;34mf\"Failed to load audio: {e.stderr.decode()}\"\u001b[0m\u001b[0;34m)\u001b[0m \u001b[0;32mfrom\u001b[0m \u001b[0me\u001b[0m\u001b[0;34m\u001b[0m\u001b[0;34m\u001b[0m\u001b[0m\n\u001b[0m\u001b[1;32m     62\u001b[0m \u001b[0;34m\u001b[0m\u001b[0m\n\u001b[1;32m     63\u001b[0m     \u001b[0;32mreturn\u001b[0m \u001b[0mnp\u001b[0m\u001b[0;34m.\u001b[0m\u001b[0mfrombuffer\u001b[0m\u001b[0;34m(\u001b[0m\u001b[0mout\u001b[0m\u001b[0;34m,\u001b[0m \u001b[0mnp\u001b[0m\u001b[0;34m.\u001b[0m\u001b[0mint16\u001b[0m\u001b[0;34m)\u001b[0m\u001b[0;34m.\u001b[0m\u001b[0mflatten\u001b[0m\u001b[0;34m(\u001b[0m\u001b[0;34m)\u001b[0m\u001b[0;34m.\u001b[0m\u001b[0mastype\u001b[0m\u001b[0;34m(\u001b[0m\u001b[0mnp\u001b[0m\u001b[0;34m.\u001b[0m\u001b[0mfloat32\u001b[0m\u001b[0;34m)\u001b[0m \u001b[0;34m/\u001b[0m \u001b[0;36m32768.0\u001b[0m\u001b[0;34m\u001b[0m\u001b[0;34m\u001b[0m\u001b[0m\n",
            "\u001b[0;31mRuntimeError\u001b[0m: Failed to load audio: ffmpeg version 4.2.7-0ubuntu0.1 Copyright (c) 2000-2022 the FFmpeg developers\n  built with gcc 9 (Ubuntu 9.4.0-1ubuntu1~20.04.1)\n  configuration: --prefix=/usr --extra-version=0ubuntu0.1 --toolchain=hardened --libdir=/usr/lib/x86_64-linux-gnu --incdir=/usr/include/x86_64-linux-gnu --arch=amd64 --enable-gpl --disable-stripping --enable-avresample --disable-filter=resample --enable-avisynth --enable-gnutls --enable-ladspa --enable-libaom --enable-libass --enable-libbluray --enable-libbs2b --enable-libcaca --enable-libcdio --enable-libcodec2 --enable-libflite --enable-libfontconfig --enable-libfreetype --enable-libfribidi --enable-libgme --enable-libgsm --enable-libjack --enable-libmp3lame --enable-libmysofa --enable-libopenjpeg --enable-libopenmpt --enable-libopus --enable-libpulse --enable-librsvg --enable-librubberband --enable-libshine --enable-libsnappy --enable-libsoxr --enable-libspeex --enable-libssh --enable-libtheora --enable-libtwolame --enable-libvidstab --enable-libvorbis --enable-libvpx --enable-libwavpack --enable-libwebp --enable-libx265 --enable-libxml2 --enable-libxvid --enable-libzmq --enable-libzvbi --enable-lv2 --enable-omx --enable-openal --enable-opencl --enable-opengl --enable-sdl2 --enable-libdc1394 --enable-libdrm --enable-libiec61883 --enable-nvenc --enable-chromaprint --enable-frei0r --enable-libx264 --enable-shared\n  libavutil      56. 31.100 / 56. 31.100\n  libavcodec     58. 54.100 / 58. 54.100\n  libavformat    58. 29.100 / 58. 29.100\n  libavdevice    58.  8.100 / 58.  8.100\n  libavfilter     7. 57.100 /  7. 57.100\n  libavresample   4.  0.  0 /  4.  0.  0\n  libswscale      5.  5.100 /  5.  5.100\n  libswresample   3.  5.100 /  3.  5.100\n  libpostproc    55.  5.100 / 55.  5.100\n/content/recording.wav: No such file or directory\n"
          ]
        }
      ]
    },
    {
      "cell_type": "markdown",
      "source": [
        "## 구글 gTTS"
      ],
      "metadata": {
        "id": "isl39nW5Nmv1"
      }
    },
    {
      "cell_type": "code",
      "source": [
        "!pip install gTTS"
      ],
      "metadata": {
        "colab": {
          "base_uri": "https://localhost:8080/"
        },
        "id": "IyB7RB8vQZb1",
        "outputId": "6325318d-8433-4b3b-88ce-fa4f0663fdd8"
      },
      "execution_count": null,
      "outputs": [
        {
          "output_type": "stream",
          "name": "stdout",
          "text": [
            "Collecting gTTS\n",
            "  Downloading gTTS-2.3.2-py3-none-any.whl (28 kB)\n",
            "Requirement already satisfied: requests<3,>=2.27 in /usr/local/lib/python3.10/dist-packages (from gTTS) (2.27.1)\n",
            "Requirement already satisfied: click<8.2,>=7.1 in /usr/local/lib/python3.10/dist-packages (from gTTS) (8.1.4)\n",
            "Requirement already satisfied: urllib3<1.27,>=1.21.1 in /usr/local/lib/python3.10/dist-packages (from requests<3,>=2.27->gTTS) (1.26.16)\n",
            "Requirement already satisfied: certifi>=2017.4.17 in /usr/local/lib/python3.10/dist-packages (from requests<3,>=2.27->gTTS) (2023.5.7)\n",
            "Requirement already satisfied: charset-normalizer~=2.0.0 in /usr/local/lib/python3.10/dist-packages (from requests<3,>=2.27->gTTS) (2.0.12)\n",
            "Requirement already satisfied: idna<4,>=2.5 in /usr/local/lib/python3.10/dist-packages (from requests<3,>=2.27->gTTS) (3.4)\n",
            "Installing collected packages: gTTS\n",
            "Successfully installed gTTS-2.3.2\n"
          ]
        }
      ]
    },
    {
      "cell_type": "code",
      "source": [
        "from gtts import gTTS\n",
        "from IPython.display import Audio\n",
        "tts = gTTS(text='안녕하세요. 반갑습니다', lang='ko')\n",
        "tts.save('test.mp3')\n",
        "sound_file = 'test.mp3'\n",
        "Audio(sound_file, autoplay=True)"
      ],
      "metadata": {
        "id": "YtjnJxISNlFE",
        "colab": {
          "base_uri": "https://localhost:8080/",
          "height": 74
        },
        "outputId": "6f2fe016-3a11-4dc1-f365-c169878adbc6"
      },
      "execution_count": null,
      "outputs": [
        {
          "output_type": "execute_result",
          "data": {
            "text/plain": [
              "<IPython.lib.display.Audio object>"
            ],
            "text/html": [
              "\n",
              "                <audio  controls=\"controls\" autoplay=\"autoplay\">\n",
              "                    <source src=\"data:audio/mpeg;base64,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\" type=\"audio/mpeg\" />\n",
              "                    Your browser does not support the audio element.\n",
              "                </audio>\n",
              "              "
            ]
          },
          "metadata": {},
          "execution_count": 22
        }
      ]
    }
  ],
  "metadata": {
    "accelerator": "GPU",
    "colab": {
      "provenance": [],
      "gpuType": "T4",
      "include_colab_link": true
    },
    "kernelspec": {
      "display_name": "Python 3",
      "name": "python3"
    },
    "language_info": {
      "codemirror_mode": {
        "name": "ipython",
        "version": 3
      },
      "file_extension": ".py",
      "mimetype": "text/x-python",
      "name": "python",
      "nbconvert_exporter": "python",
      "pygments_lexer": "ipython3",
      "version": "3.9.9"
    }
  },
  "nbformat": 4,
  "nbformat_minor": 0
}